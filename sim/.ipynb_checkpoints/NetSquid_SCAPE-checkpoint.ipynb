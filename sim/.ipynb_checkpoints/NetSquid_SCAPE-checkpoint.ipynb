{
 "cells": [
  {
   "cell_type": "markdown",
   "id": "04969240-15f9-433e-845f-ff6e3ce66f36",
   "metadata": {},
   "source": [
    "# NetSquid basis vectors:\n",
    "ns.s0 is |0>  \n",
    "ns.s1 is |1>  \n",
    "ns.h0 is |+>  \n",
    "ns.h1 is |->  \n",
    "ns.y0 is |+i>  \n",
    "ns.y1 is |-i>"
   ]
  },
  {
   "cell_type": "code",
   "execution_count": 1,
   "id": "dde84d35",
   "metadata": {},
   "outputs": [],
   "source": [
    "import netsquid as ns\n",
    "import numpy as np\n",
    "from enum import Enum, auto\n",
    "import time\n",
    "from functools import reduce\n",
    "import os\n",
    "\n",
    "from multiprocessing import get_context\n",
    "from scape_tools import Basis, operators, kets, diamond_norm_distance, simulate_chunk"
   ]
  },
  {
   "cell_type": "markdown",
   "id": "16587c58-2aaa-4c69-aa87-2d4f5a7df695",
   "metadata": {},
   "source": [
    "# Set the seed"
   ]
  },
  {
   "cell_type": "code",
   "execution_count": 2,
   "id": "23ac2774-728a-4c53-ab08-1c1ffec95de9",
   "metadata": {},
   "outputs": [],
   "source": [
    "np.random.seed(41)"
   ]
  },
  {
   "cell_type": "markdown",
   "id": "d26cc3d9-92c6-44c1-b4a0-92340c244852",
   "metadata": {},
   "source": [
    "# Generate Pauli noice parameters"
   ]
  },
  {
   "cell_type": "code",
   "execution_count": 3,
   "id": "18ef8307-794f-431b-bc27-8fca3d98ea15",
   "metadata": {},
   "outputs": [
    {
     "name": "stdout",
     "output_type": "stream",
     "text": [
      "pauli_parameters: [0.77579552 0.1398145  0.05220448 0.0321855 ]\n",
      "bsc_error_rates: [0.08438998 0.172      0.19201897 1.        ]\n"
     ]
    }
   ],
   "source": [
    "def get_pauli_parameters(gamma):\n",
    "    corr_matrix = 1/4 * np.array([[1, gamma, gamma**2,gamma**3], [gamma, 1, gamma, gamma**2], [gamma**2, gamma, 1, gamma], [gamma**3, gamma**2, gamma, 1]])\n",
    "    params = np.linalg.eigvals(corr_matrix)\n",
    "    params.sort()\n",
    "    return params\n",
    "\n",
    "def pauli_to_bsc_error_rates(pauli_cs):\n",
    "\tA_matrix = np.array([[0, 0, 1, 1], [0, 1, 0, 1], [0, 1, 1, 0], [1, 1, 1, 1]])\n",
    "\tbsc_error_rates = np.dot(A_matrix, pauli_cs)\n",
    "\treturn bsc_error_rates\n",
    "\n",
    "def bsc_error_rates_to_pauli(bsc_error_rates):\n",
    "\tA_inverse_matrix = np.array([[-0.5, -0.5, -0.5, 1], [-0.5, 0.5, 0.5, 0], [0.5, -0.5, 0.5, 0], [0.5, 0.5, -0.5, 0]])\n",
    "\n",
    "\tpauli_cs = np.dot(A_inverse_matrix, bsc_error_rates)\n",
    "\treturn pauli_cs\n",
    "\n",
    "pauli_parameters = get_pauli_parameters(0.8)[::-1]\n",
    "print(\"pauli_parameters:\", pauli_parameters)\n",
    "\n",
    "bsc_error_rates = pauli_to_bsc_error_rates(pauli_parameters)\n",
    "print(\"bsc_error_rates:\", bsc_error_rates)\n"
   ]
  },
  {
   "cell_type": "code",
   "execution_count": 4,
   "id": "5db08dbf-25f5-414a-9b03-e047ed77f701",
   "metadata": {},
   "outputs": [],
   "source": [
    "k = 13   # number of symbol repetitions\n",
    "m_per_basis_length  = 20000\n",
    "message_length = m_per_basis_length * 3"
   ]
  },
  {
   "cell_type": "code",
   "execution_count": 5,
   "id": "4faec004-a73a-4bd5-90b1-94513dc55bce",
   "metadata": {},
   "outputs": [],
   "source": [
    "message = np.random.randint(0, 2, size=message_length, dtype=bool)\n",
    "\n",
    "message_X = message[0:m_per_basis_length]\n",
    "message_Y = message[m_per_basis_length:2*m_per_basis_length]\n",
    "message_Z = message[2*m_per_basis_length:]\n",
    "\n",
    "k_encoded_message_X = np.repeat(message_X, k)\n",
    "k_encoded_message_Y = np.repeat(message_Y, k)\n",
    "k_encoded_message_Z = np.repeat(message_Z, k)"
   ]
  },
  {
   "cell_type": "code",
   "execution_count": 6,
   "id": "b7349a74-40c0-4a96-a26e-cbc15f128808",
   "metadata": {},
   "outputs": [
    {
     "name": "stdout",
     "output_type": "stream",
     "text": [
      "60000\n",
      "20000\n",
      "260000\n"
     ]
    }
   ],
   "source": [
    "print(len(message))\n",
    "print(len(message_X))\n",
    "print(len(k_encoded_message_X))"
   ]
  },
  {
   "cell_type": "markdown",
   "id": "f2533852-a34e-4f0b-8cb1-744b923c12b7",
   "metadata": {},
   "source": [
    "# Encode the message in qubits, apply Pauli noise, measure the qubits"
   ]
  },
  {
   "cell_type": "code",
   "execution_count": 7,
   "id": "c3101075-90a7-4c34-b076-99ffa697aba0",
   "metadata": {},
   "outputs": [],
   "source": [
    "def transfer_message(message, pauli_parameters, basis, nproc=None):\n",
    "    msg = np.asarray(message, dtype=np.int8)\n",
    "    nproc = nproc or os.cpu_count()\n",
    "    chunks = [c.tolist() for c in np.array_split(msg, nproc) if c.size]\n",
    "    with get_context(\"spawn\").Pool(processes=nproc) as pool:\n",
    "        parts = pool.starmap(simulate_chunk, [(c, pauli_parameters, basis) for c in chunks])\n",
    "    return [b for part in parts for b in part]"
   ]
  },
  {
   "cell_type": "code",
   "execution_count": 8,
   "id": "1a94988e-e088-42bd-98a4-11428f3f1334",
   "metadata": {},
   "outputs": [],
   "source": [
    "def estimate_bsc_error(message, pauli_parameters, basis):\n",
    "    assert basis in Basis\n",
    "    assert len(message)%k==0   # message has to be k-repetition encoded\n",
    "    assert abs(sum(pauli_parameters) - 1) < 1e-12\n",
    "    \n",
    "    transfer_start = time.time()\n",
    "    received_message = transfer_message(message, pauli_parameters, basis=basis)\n",
    "    transfer_end = time.time()\n",
    "    print(\"transfer time:\", transfer_end - transfer_start)\n",
    "    \n",
    "    corrected_received_message = received_message.copy()\n",
    "    for i in range(len(received_message)//k):\n",
    "        count_ones = 0\n",
    "        for j in range(k):\n",
    "            count_ones += received_message[k*i+j]\n",
    "        count_zeros = k - count_ones\n",
    "        if count_ones > count_zeros:\n",
    "            for j in range(k):\n",
    "                corrected_received_message[k*i+j] = 1\n",
    "        else:\n",
    "            for j in range(k):\n",
    "                corrected_received_message[k*i+j] = 0\n",
    "    assert len(received_message) == len(corrected_received_message)\n",
    "\n",
    "    flip_counter = 0\n",
    "    for i in range(len(received_message)):\n",
    "        if received_message[i] != corrected_received_message[i]:\n",
    "            flip_counter += 1\n",
    "    epsilon = flip_counter / len(received_message)\n",
    "    return epsilon"
   ]
  },
  {
   "cell_type": "code",
   "execution_count": 9,
   "id": "24c78b5d-d1d8-4916-b595-662f32ea3bc9",
   "metadata": {},
   "outputs": [
    {
     "name": "stdout",
     "output_type": "stream",
     "text": [
      "transfer time: 3.990323066711426\n",
      "total 4.016891241073608 sec\n",
      "\n",
      "transfer time: 3.9757795333862305\n",
      "total 8.020156860351562 sec\n",
      "\n",
      "transfer time: 3.923535108566284\n",
      "total 11.972122192382812 sec\n",
      "\n",
      "Diamond norm distance: 0.0016610245789622155\n"
     ]
    }
   ],
   "source": [
    "start = time.time()\n",
    "\n",
    "estimated_epsilonX = estimate_bsc_error(k_encoded_message_X, pauli_parameters, basis=Basis.X)\n",
    "chekckpoint1 = time.time()\n",
    "print('total', chekckpoint1-start, \"sec\\n\")\n",
    "\n",
    "estimated_epsilonY = estimate_bsc_error(k_encoded_message_Y, pauli_parameters, basis=Basis.Y)\n",
    "chekckpoint2 = time.time()\n",
    "print('total', chekckpoint2-start, \"sec\\n\")\n",
    "\n",
    "estimated_epsilonZ = estimate_bsc_error(k_encoded_message_Z, pauli_parameters, basis=Basis.Z)\n",
    "chekckpoint3 = time.time()\n",
    "print('total', chekckpoint3-start, \"sec\\n\")\n",
    "\n",
    "estimated_error_rates = (estimated_epsilonX, estimated_epsilonY, estimated_epsilonZ, 1)\n",
    "estimated_pauli_parameters = bsc_error_rates_to_pauli(estimated_error_rates)\n",
    "distance = diamond_norm_distance(pauli_parameters, estimated_pauli_parameters)\n",
    "print('Diamond norm distance:',distance)"
   ]
  },
  {
   "cell_type": "code",
   "execution_count": null,
   "id": "626748b8-2ea2-4988-b1a4-ce1ad9cba2bf",
   "metadata": {},
   "outputs": [],
   "source": []
  },
  {
   "cell_type": "code",
   "execution_count": null,
   "id": "00d427c6-2ae3-437f-91cc-9dd417dcedab",
   "metadata": {},
   "outputs": [],
   "source": []
  },
  {
   "cell_type": "code",
   "execution_count": null,
   "id": "097716ea-4af1-4788-ae9e-f475d38c0788",
   "metadata": {},
   "outputs": [],
   "source": []
  },
  {
   "cell_type": "code",
   "execution_count": null,
   "id": "139c3fe2-8f71-40c8-bef8-0b727c091216",
   "metadata": {},
   "outputs": [],
   "source": []
  },
  {
   "cell_type": "code",
   "execution_count": null,
   "id": "ccaab805-35af-4111-bbf9-db83c20a2f2d",
   "metadata": {},
   "outputs": [],
   "source": []
  },
  {
   "cell_type": "code",
   "execution_count": null,
   "id": "a5325c17-fed9-47b1-a20f-87cfd31b9082",
   "metadata": {},
   "outputs": [],
   "source": [
    "# single process message transfer\n",
    "'''\n",
    "def transfer_message(message, pauli_parameters, basis):\n",
    "    n = len(message)\n",
    "    qubes = ns.qubits.create_qubits(n, no_state=True)\n",
    "\n",
    "    ket0, ket1 = kets[basis]\n",
    "    op = operators[basis]\n",
    "    \n",
    "    for i, bit in enumerate(message):\n",
    "        ns.qubits.assign_qstate(qubes[i], ket1 if bit else ket0)\n",
    "        ns.qubits.apply_pauli_noise(qubes[i], p_weights=pauli_parameters)\n",
    "    \n",
    "    received_message = []\n",
    "    for qube in qubes:\n",
    "        received_message.append(ns.qubits.measure(qube, observable=op)[0])\n",
    "\n",
    "    return received_message\n",
    "'''"
   ]
  },
  {
   "cell_type": "code",
   "execution_count": null,
   "id": "b3b678f1-1c10-4786-ab45-41ce665a0c58",
   "metadata": {},
   "outputs": [],
   "source": []
  },
  {
   "cell_type": "code",
   "execution_count": null,
   "id": "2317f9c7-60b1-4921-9d36-eb7dfea17bf9",
   "metadata": {},
   "outputs": [],
   "source": []
  },
  {
   "cell_type": "code",
   "execution_count": null,
   "id": "54f67382-c744-4c7e-a55a-ff75e927a38f",
   "metadata": {},
   "outputs": [],
   "source": []
  },
  {
   "cell_type": "code",
   "execution_count": null,
   "id": "3b132431-0669-49c4-97f0-fcb4f75cd99d",
   "metadata": {},
   "outputs": [],
   "source": []
  }
 ],
 "metadata": {
  "kernelspec": {
   "display_name": "Python 3 (ipykernel)",
   "language": "python",
   "name": "python3"
  },
  "language_info": {
   "codemirror_mode": {
    "name": "ipython",
    "version": 3
   },
   "file_extension": ".py",
   "mimetype": "text/x-python",
   "name": "python",
   "nbconvert_exporter": "python",
   "pygments_lexer": "ipython3",
   "version": "3.11.13"
  }
 },
 "nbformat": 4,
 "nbformat_minor": 5
}
