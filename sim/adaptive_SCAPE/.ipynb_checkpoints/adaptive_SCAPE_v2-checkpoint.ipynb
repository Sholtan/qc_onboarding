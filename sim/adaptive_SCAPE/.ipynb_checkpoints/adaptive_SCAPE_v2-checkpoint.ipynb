{
 "cells": [
  {
   "cell_type": "markdown",
   "id": "6364a1da-6c34-4eee-94c7-3aa079724879",
   "metadata": {
    "jp-MarkdownHeadingCollapsed": true
   },
   "source": [
    "# Imports"
   ]
  },
  {
   "cell_type": "code",
   "execution_count": 2,
   "id": "5844dec9-de48-4255-a694-2c01c485f7e2",
   "metadata": {},
   "outputs": [],
   "source": [
    "import netsquid as ns\n",
    "import numpy as np\n",
    "\n",
    "import time\n",
    "\n",
    "import os\n",
    "from multiprocessing import get_context\n",
    "from tqdm import tqdm\n",
    "from dataclasses import dataclass, field\n",
    "\n",
    "from enum import Enum, auto\n",
    "\n",
    "import matplotlib.pyplot as plt\n",
    "\n",
    "from adaptive_scape_tools import Basis, operators, kets, simulate_chunk"
   ]
  },
  {
   "cell_type": "markdown",
   "id": "f313583c-1057-4ce7-a117-523195873e9e",
   "metadata": {
    "jp-MarkdownHeadingCollapsed": true
   },
   "source": [
    "# Data models"
   ]
  },
  {
   "cell_type": "code",
   "execution_count": 3,
   "id": "a70b68f4-79a8-477f-9f92-8c4a78e8206c",
   "metadata": {},
   "outputs": [],
   "source": [
    "@dataclass\n",
    "class SimParams:\n",
    "    fs: float # sampling rate\n",
    "    delta_t: float # time between channel uses\n",
    "    f: float #frequency of channel variation\n",
    "    a: float # amplitude\n",
    "    b: float # bias\n",
    "    phi: float # phase\n",
    "    N: int # estimation step\n",
    "    M: int # number of simulations\n",
    "    k_init: int # initial k value for all basis\n",
    "    s_min: int # lower bound for CRI\n",
    "    s_max: int # upper bound for CRI\n",
    "    t_max: float # time window [sec]\n",
    "\n",
    "    T_steps_sim: int # number of timestamps in a window\n",
    "    remaining_T_steps: int\n",
    "\n",
    "@dataclass\n",
    "class EstimationStep:\n",
    "    start_timestamp: int = 0\n",
    "    k_x: int = field(init=False)                # repetition number for X basis\n",
    "    k_y: int = field(init=False)                # repetition number for Y basis\n",
    "    k_z: int = field(init=False)                # repetition number for Z basis\n",
    "    channel_uses: int = field(init=False)\n",
    "    \n",
    "    message_length: int = field(init=False)\n",
    "    message: np.ndarray = field(init=False)\n",
    "    \n",
    "    encoded_message_x: np.ndarray = field(init=False)\n",
    "    encoded_message_y: np.ndarray = field(init=False)\n",
    "    encoded_message_z: np.ndarray = field(init=False)\n",
    "\n",
    "    gx: np.ndarray = field(init=False)\n",
    "    gy: np.ndarray = field(init=False)\n",
    "    gz: np.ndarray = field(init=False)\n",
    "\n",
    "    p_true_x: np.ndarray = field(init=False)     # true Pauli parameters for samples in X basis\n",
    "    p_true_y: np.ndarray = field(init=False)     # true Pauli parameters for samples in Y basis\n",
    "    p_true_z: np.ndarray = field(init=False)     # true Pauli parameters for samples in Z basis\n",
    "    \n",
    "    received_message_x: np.ndarray = field(init=False)\n",
    "    received_message_y: np.ndarray = field(init=False)\n",
    "    received_message_z: np.ndarray = field(init=False)\n",
    "    \n",
    "    decoded_message_x: np.ndarray = field(init=False)\n",
    "    decoded_message_y: np.ndarray = field(init=False)\n",
    "    decoded_message_z: np.ndarray = field(init=False)\n",
    "\n",
    "    cri_x: np.ndarray = field(init=False)\n",
    "    cri_y: np.ndarray = field(init=False)\n",
    "    cri_z: np.ndarray = field(init=False)\n",
    "\n",
    "    corrected_message_x: np.ndarray = field(init=False)\n",
    "    corrected_message_y: np.ndarray = field(init=False)\n",
    "    corrected_message_z: np.ndarray = field(init=False)\n",
    "\n",
    "    epsilon: np.ndarray = field(init=False)\n",
    "    \n",
    "    p_hat: np.ndarray = field(init=False)      # estimated Pauli parameters\n"
   ]
  },
  {
   "cell_type": "markdown",
   "id": "2ca2d3c2-a54d-4983-820a-d3e835e1827a",
   "metadata": {
    "jp-MarkdownHeadingCollapsed": true
   },
   "source": [
    "# Configuration"
   ]
  },
  {
   "cell_type": "code",
   "execution_count": 12,
   "id": "5a7bf554-4ec7-4cd2-b977-8e4fd6479b25",
   "metadata": {},
   "outputs": [],
   "source": [
    "def set_sim_parameters():    \n",
    "    SimParams.N = 1000\n",
    "    SimParams.M = 50\n",
    "    SimParams.a = 0.3\n",
    "    SimParams.b = 0.7\n",
    "    SimParams.fs = 10000\n",
    "    SimParams.delta_t = 1 / SimParams.fs \n",
    "    SimParams.f = 1\n",
    "    SimParams.phi = np.pi/2\n",
    "    SimParams.t_max = 2\n",
    "    SimParams.k_init = 13\n",
    "\n",
    "    SimParams.s_min = 1\n",
    "    SimParams.s_max = 3\n",
    "    \n",
    "    SimParams.T_steps_sim = SimParams.fs * SimParams.t_max\n",
    "    SimParams.remaining_T_steps = SimParams.T_steps_sim"
   ]
  },
  {
   "cell_type": "markdown",
   "id": "12b8b734-a154-488c-a1cf-796b15b78ec1",
   "metadata": {},
   "source": [
    "# Functions definition"
   ]
  },
  {
   "cell_type": "markdown",
   "id": "6525f96c-6d3b-419d-b2a0-59568895777e",
   "metadata": {
    "jp-MarkdownHeadingCollapsed": true
   },
   "source": [
    "## Message generation"
   ]
  },
  {
   "cell_type": "code",
   "execution_count": 4,
   "id": "892c34c0-cadd-4a59-972e-bd545562563b",
   "metadata": {},
   "outputs": [],
   "source": [
    "\n",
    "def message_for_step(est_step):\n",
    "    '''\n",
    "    Calculates the amount channel uses for next step\n",
    "    Calculates the message length\n",
    "    Generates the message for transfer\n",
    "    '''\n",
    "    \n",
    "    est_step.message_length = est_step.pairs * 3\n",
    "    est_step.message = np.random.randint(0, 2, size=est_step.message_length, dtype=np.int8)\n",
    "\n",
    "    return 1"
   ]
  },
  {
   "cell_type": "markdown",
   "id": "8e1fa670-667b-458e-804a-94db53dfcaa9",
   "metadata": {
    "jp-MarkdownHeadingCollapsed": true
   },
   "source": [
    "## Encode and split the message"
   ]
  },
  {
   "cell_type": "code",
   "execution_count": 5,
   "id": "7ef7dfd8-4b5f-49bd-8090-8445c9340750",
   "metadata": {},
   "outputs": [],
   "source": [
    "def encode_and_split(est_step):\n",
    "    '''\n",
    "    encodes the original message and splits it to 3 basis\n",
    "    '''\n",
    "    bit_event = np.dtype([(\"bit_val\", np.int8), (\"timestamp\", np.float64)])\n",
    "    \n",
    "    est_step.encoded_message_x = np.empty(est_step.message_length//3 * est_step.k_x, dtype=bit_event)\n",
    "    est_step.encoded_message_y = np.empty(est_step.message_length//3 * est_step.k_y, dtype=bit_event)\n",
    "    est_step.encoded_message_z = np.empty(est_step.message_length//3 * est_step.k_z, dtype=bit_event)\n",
    "    \n",
    "    #encoded_message = np.empty(est_step.message_length // 3 * (est_step.k_x + est_step.k_y + est_step.k_z), dtype=est_step.message.dtype)\n",
    "    running_index = 0\n",
    "    for i in range(est_step.message_length // 3):\n",
    "        for j in range(est_step.k_x):\n",
    "            #encoded_message[running_index] = est_step.message[i*3]\n",
    "            est_step.encoded_message_x[i*est_step.k_x + j] = est_step.message[i*3], est_step.start_timestamp + running_index\n",
    "            running_index+=1\n",
    "        \n",
    "        for j in range(est_step.k_y):\n",
    "            #encoded_message[running_index] = est_step.message[i*3 + 1]\n",
    "            est_step.encoded_message_y[i*est_step.k_y + j] = est_step.message[i*3 + 1], est_step.start_timestamp + running_index\n",
    "            running_index+=1\n",
    "        \n",
    "        for j in range(est_step.k_z):\n",
    "            #encoded_message[running_index] = est_step.message[i*3 + 2]\n",
    "            est_step.encoded_message_z[i*est_step.k_z + j] = est_step.message[i*3 + 2], est_step.start_timestamp + running_index\n",
    "            running_index+=1\n"
   ]
  },
  {
   "cell_type": "markdown",
   "id": "2571af76-0785-4a19-87e0-cb08a1a05215",
   "metadata": {
    "jp-MarkdownHeadingCollapsed": true
   },
   "source": [
    "## Pauli channel"
   ]
  },
  {
   "cell_type": "markdown",
   "id": "a01acae9-17b5-47e3-81bd-606bf5c47f80",
   "metadata": {},
   "source": [
    "### set gamma array"
   ]
  },
  {
   "cell_type": "code",
   "execution_count": 10,
   "id": "f92658aa-207b-4e5e-aee2-539fa1c11950",
   "metadata": {},
   "outputs": [],
   "source": [
    "def gamma_t(t):\n",
    "    return SimParams.b + SimParams.a*np.sin(2*np.pi*SimParams.f*t + SimParams.phi)\n",
    "\n",
    "def set_gamma_arrays(est_step):\n",
    "    est_step.gx = gamma_t(est_step.encoded_message_x[\"timestamp\"]*SimParams.delta_t)\n",
    "    est_step.gy = gamma_t(est_step.encoded_message_y[\"timestamp\"]*SimParams.delta_t)\n",
    "    est_step.gz = gamma_t(est_step.encoded_message_z[\"timestamp\"]*SimParams.delta_t)"
   ]
  },
  {
   "cell_type": "markdown",
   "id": "3e1b500c-e9ec-4026-8f73-cf3b41b32eee",
   "metadata": {},
   "source": [
    "### set pauli parameters"
   ]
  },
  {
   "cell_type": "code",
   "execution_count": 16,
   "id": "ec039cd8-ed81-4b84-a6d3-69374df849e4",
   "metadata": {},
   "outputs": [],
   "source": [
    "def _pauli_params_from_gamma(gamma: np.ndarray) -> np.ndarray:\n",
    "    g = np.asarray(gamma, dtype=np.float64)\n",
    "    one = np.ones_like(g)\n",
    "    G = 0.25 * np.stack([\n",
    "        np.stack([one, g, g**2, g**3], axis=-1),\n",
    "        np.stack([g, one, g, g**2],    axis=-1),\n",
    "        np.stack([g**2, g, one, g],    axis=-1),\n",
    "        np.stack([g**3, g**2, g, one], axis=-1),\n",
    "    ], axis=-2)  # shape (N,4,4)\n",
    "\n",
    "    eigs = np.linalg.eigvalsh(G)        # shape (N,4), ascending\n",
    "    pZ, pY, pX, pI = eigs[:, 0], eigs[:, 1], eigs[:, 2], eigs[:, 3]\n",
    "    P = np.stack((pI, pX, pY, pZ), axis=1)  # (N,4): [pI,pX,pY,pZ]\n",
    "\n",
    "    # numeric hygiene\n",
    "    if np.any(P < -1e-7):\n",
    "        raise ValueError(\"Pauli parameters contain negative values.\")\n",
    "    P = np.clip(P, 0.0, None)\n",
    "    P /= P.sum(axis=1, keepdims=True)\n",
    "    return P\n",
    "\n",
    "def set_pauli_params(est_step):\n",
    "    for basis in (\"x\", \"y\", \"z\"):\n",
    "        gamma = getattr(est_step, f\"g{basis}\")\n",
    "        setattr(est_step, f\"p_true_{basis}\", _pauli_params_from_gamma(gamma))"
   ]
  },
  {
   "cell_type": "markdown",
   "id": "2f71a6a6-ba7f-41b0-b287-cbdb563f7d28",
   "metadata": {
    "jp-MarkdownHeadingCollapsed": true
   },
   "source": [
    "## transfer message"
   ]
  },
  {
   "cell_type": "code",
   "execution_count": 8,
   "id": "6215b138-fcf9-4ff9-a1d1-1816eed3fc49",
   "metadata": {},
   "outputs": [],
   "source": [
    "def _transfer_msg(msg, pauli_parameters, basis, nproc=None):\n",
    "    assert len(msg) == len(pauli_parameters), \"Lengths of message and pauli array must match\"\n",
    "\n",
    "    nproc = nproc or os.cpu_count()\n",
    "\n",
    "    # split message and pauli_parameters together\n",
    "    msg_chunks = np.array_split(msg, nproc)\n",
    "    param_chunks = np.array_split(pauli_parameters, nproc)\n",
    "\n",
    "    # filter out empty splits\n",
    "    chunks = [(m.tolist(), p.tolist()) \n",
    "              for m, p in zip(msg_chunks, param_chunks) if m.size]\n",
    "\n",
    "    with get_context(\"spawn\").Pool(processes=nproc) as pool:\n",
    "        parts = pool.starmap(\n",
    "            simulate_chunk,\n",
    "            [(m, p, basis) for m, p in chunks]\n",
    "        )\n",
    "    return np.asarray([b for part in parts for b in part])\n",
    "\n",
    "def transfer_messages(est_step):\n",
    "    est_step.received_message_x = _transfer_msg(est_step.encoded_message_x[\"bit_val\"], est_step.p_true_x, Basis.X)\n",
    "    est_step.received_message_y = _transfer_msg(est_step.encoded_message_y[\"bit_val\"], est_step.p_true_y, Basis.Y)\n",
    "    est_step.received_message_z = _transfer_msg(est_step.encoded_message_z[\"bit_val\"], est_step.p_true_z, Basis.Z)"
   ]
  },
  {
   "cell_type": "markdown",
   "id": "71935da1-7bf2-41e8-8aeb-fd42951f2b04",
   "metadata": {
    "jp-MarkdownHeadingCollapsed": true
   },
   "source": [
    "## Error correction and error estimation"
   ]
  },
  {
   "cell_type": "markdown",
   "id": "3ad1817c-e9f1-4bdf-8007-1e211c5eb6aa",
   "metadata": {},
   "source": [
    "### decode with error correction and compute cri"
   ]
  },
  {
   "cell_type": "code",
   "execution_count": 9,
   "id": "08f37cbb-9fd6-4fff-b995-e1ef3d9cab3a",
   "metadata": {},
   "outputs": [],
   "source": [
    "def _decode(received_message, k):\n",
    "    a = np.asarray(received_message)\n",
    "    assert a.size % k == 0\n",
    "    blocks = a.reshape(-1, k)\n",
    "\n",
    "    ones = np.count_nonzero(blocks, axis=1)\n",
    "    majority = (ones > k - ones).astype(int)\n",
    "    cri_arr = np.abs(k - 2*ones) - (k - 1)/2\n",
    "\n",
    "    return majority, cri_arr\n",
    "\n",
    "def decode(est_step):\n",
    "    est_step.decoded_message_x, est_step.cri_x = _decode(est_step.received_message_x, est_step.k_x)\n",
    "    est_step.decoded_message_y, est_step.cri_y = _decode(est_step.received_message_y, est_step.k_y)\n",
    "    est_step.decoded_message_z, est_step.cri_z = _decode(est_step.received_message_z, est_step.k_z)\n"
   ]
  },
  {
   "cell_type": "markdown",
   "id": "bdb5ab94-8209-46bf-ab75-dd5e7c57f7c7",
   "metadata": {},
   "source": [
    "### Encode"
   ]
  },
  {
   "cell_type": "code",
   "execution_count": 10,
   "id": "970c5aa3-e32b-4757-92e8-1bf6f266ea7e",
   "metadata": {},
   "outputs": [],
   "source": [
    "def _encode(message, k):\n",
    "    return np.repeat(np.asarray(message), k)\n",
    "\n",
    "def encode(est_step):\n",
    "    est_step.corrected_message_x = _encode(est_step.decoded_message_x, est_step.k_x)\n",
    "    est_step.corrected_message_y = _encode(est_step.decoded_message_y, est_step.k_y)\n",
    "    est_step.corrected_message_z = _encode(est_step.decoded_message_z, est_step.k_z)\n",
    "    "
   ]
  },
  {
   "cell_type": "markdown",
   "id": "ee585949-2a22-4205-8da5-8925a00edb9f",
   "metadata": {},
   "source": [
    "### estimates the errors"
   ]
  },
  {
   "cell_type": "code",
   "execution_count": 11,
   "id": "47ae8e51-e0ee-4ef2-b231-9c7d2fef618f",
   "metadata": {},
   "outputs": [],
   "source": [
    "def _estimate_bsc_error(received_message, corrected_message):\n",
    "    assert received_message.shape == corrected_message.shape\n",
    "    flips = np.count_nonzero(received_message != corrected_message)\n",
    "\n",
    "    return flips / received_message.size\n",
    "\n",
    "def estimate_errors(est_step):\n",
    "    est_step.epsilon = np.array([_estimate_bsc_error(est_step.received_message_x, est_step.corrected_message_x),\n",
    "                       _estimate_bsc_error(est_step.received_message_y, est_step.corrected_message_y),\n",
    "                       _estimate_bsc_error(est_step.received_message_z, est_step.corrected_message_z), 1.])"
   ]
  },
  {
   "cell_type": "markdown",
   "id": "e0a3f65f-b961-411e-912c-b7bc220dffd0",
   "metadata": {
    "jp-MarkdownHeadingCollapsed": true
   },
   "source": [
    "## Estimate Pauli"
   ]
  },
  {
   "cell_type": "code",
   "execution_count": 12,
   "id": "2be20bb6-ac86-4cae-9a9f-366278a26e17",
   "metadata": {},
   "outputs": [],
   "source": [
    "def estimate_pauli(est_step):\n",
    "    A_inverse = np.array(\n",
    "        [[-0.5, -0.5, -0.5, 1], \n",
    "         [-0.5, 0.5, 0.5, 0], \n",
    "         [0.5, -0.5, 0.5, 0], \n",
    "         [0.5, 0.5, -0.5, 0]])\n",
    "\n",
    "    est_step.p_hat = np.dot(A_inverse, est_step.epsilon)"
   ]
  },
  {
   "cell_type": "markdown",
   "id": "a3de234d-2d20-4ad6-b69d-6c3fe1cbc435",
   "metadata": {
    "jp-MarkdownHeadingCollapsed": true
   },
   "source": [
    "## Update k"
   ]
  },
  {
   "cell_type": "code",
   "execution_count": 13,
   "id": "b11de9dc-f568-4d13-927d-04b1037b716f",
   "metadata": {},
   "outputs": [],
   "source": [
    "def cri_update(cri_arr):\n",
    "    bigger = np.sum(cri_arr > SimParams.s_max)\n",
    "    lower = np.sum(cri_arr < SimParams.s_min)\n",
    "    if lower > 0:\n",
    "        return 1\n",
    "    elif bigger > 0.9 * len(cri_arr):\n",
    "        return -1\n",
    "    else:\n",
    "        return 0\n",
    "        "
   ]
  },
  {
   "cell_type": "markdown",
   "id": "43723821-2bbb-43d1-8bf7-ef99f19831ff",
   "metadata": {
    "jp-MarkdownHeadingCollapsed": true
   },
   "source": [
    "# Run estimation window"
   ]
  },
  {
   "cell_type": "code",
   "execution_count": 14,
   "id": "71e0870b-33b2-4b8e-915c-bce1786fc000",
   "metadata": {},
   "outputs": [],
   "source": [
    "def run_estimation_step(k_x, k_y, k_z, start_timestamp):\n",
    "    '''\n",
    "        Single estimation window\n",
    "    '''\n",
    "    # initialize Estimation step\n",
    "    est_step = EstimationStep()\n",
    "    est_step.k_x = k_x\n",
    "    est_step.k_y = k_y\n",
    "    est_step.k_z = k_z\n",
    "    est_step.start_timestamp = start_timestamp        \n",
    "\n",
    "\n",
    "    est_step.pairs = int(SimParams.N / (est_step.k_x + est_step.k_y + est_step.k_z))\n",
    "\n",
    "    est_step.channel_uses = est_step.pairs * (est_step.k_x + est_step.k_y + est_step.k_z)\n",
    "    if est_step.channel_uses > SimParams.remaining_T_steps:\n",
    "        return None\n",
    "    else:\n",
    "        SimParams.remaining_T_steps -= est_step.channel_uses\n",
    "\n",
    "    # message generation\n",
    "    #print('SimParams.T_steps_sim', SimParams.T_steps_sim)\n",
    "    #print('SimParams.remaining_T_steps', SimParams.remaining_T_steps)\n",
    "    if message_for_step(est_step) is None:\n",
    "        return None\n",
    "    \n",
    "    #print('SimParams.remaining_T_steps', SimParams.remaining_T_steps)\n",
    "    \n",
    "    #print('est_step.channel_uses', est_step.channel_uses)\n",
    "    #print('est_step.message_length', est_step.message_length)\n",
    "    #print('est_step.message.shape', est_step.message.shape)\n",
    "    \n",
    "    \n",
    "    # Encode the message and split for 3 basis\n",
    "    encode_and_split(est_step)\n",
    "    \n",
    "    # calculate gamma for each timestamp\n",
    "    set_gamma_arrays(est_step)\n",
    "    \n",
    "    # calculate pauli parameters for each timestamp\n",
    "    set_pauli_params(est_step)\n",
    "\n",
    "    transfer_start = time.time()\n",
    "    # transfer the message\n",
    "    transfer_messages(est_step)\n",
    "    transfer_stop = time.time()\n",
    "    print(\"transfer time:\", transfer_stop - transfer_start)\n",
    "    \n",
    "    # encode-decode\n",
    "    decode(est_step)\n",
    "    encode(est_step)\n",
    "    \n",
    "    # estimate average error for whole estimation step\n",
    "    estimate_errors(est_step)\n",
    "    \n",
    "    # estimate average pauli parameters for whole estimation step\n",
    "    estimate_pauli(est_step)\n",
    "\n",
    "    # count cri and update kx, ky, kz\n",
    "    est_step.k_x += cri_update(est_step.cri_x)\n",
    "    est_step.k_y += cri_update(est_step.cri_y)\n",
    "    est_step.k_z += cri_update(est_step.cri_z)\n",
    "\n",
    "    return (est_step.p_hat, k_x, k_y, k_z, start_timestamp + est_step.channel_uses)"
   ]
  },
  {
   "cell_type": "code",
   "execution_count": null,
   "id": "6e0c6525-90a0-4230-8001-61c38dfa05fa",
   "metadata": {},
   "outputs": [],
   "source": []
  },
  {
   "cell_type": "code",
   "execution_count": null,
   "id": "7c378cd5-73ae-4a48-8b41-3afeeff452f8",
   "metadata": {},
   "outputs": [],
   "source": []
  },
  {
   "cell_type": "markdown",
   "id": "7ba42b29-1568-4423-9a53-fdbebe9b864b",
   "metadata": {
    "jp-MarkdownHeadingCollapsed": true
   },
   "source": [
    "# M Simulations"
   ]
  },
  {
   "cell_type": "code",
   "execution_count": 18,
   "id": "fabbb25c-093e-41f3-82e7-40427bacc915",
   "metadata": {},
   "outputs": [
    {
     "name": "stdout",
     "output_type": "stream",
     "text": [
      "i, time: 0 , 64.10416746139526\n",
      "i, time: 1 , 67.55327224731445\n",
      "i, time: 2 , 68.71464419364929\n",
      "i, time: 3 , 66.1602349281311\n",
      "i, time: 4 , 66.08186674118042\n",
      "i, time: 5 , 65.57085037231445\n",
      "i, time: 6 , 66.46749210357666\n",
      "i, time: 7 , 66.04507970809937\n",
      "i, time: 8 , 66.31019163131714\n",
      "i, time: 9 , 66.27384924888611\n",
      "i, time: 10 , 66.18755078315735\n",
      "i, time: 11 , 66.51410937309265\n",
      "i, time: 12 , 66.26629304885864\n",
      "i, time: 13 , 66.68085074424744\n",
      "i, time: 14 , 66.26481223106384\n",
      "i, time: 15 , 66.60658502578735\n",
      "i, time: 16 , 66.33129930496216\n",
      "i, time: 17 , 65.79855632781982\n",
      "i, time: 18 , 66.52587604522705\n",
      "i, time: 19 , 66.39026188850403\n",
      "i, time: 20 , 66.6918613910675\n",
      "i, time: 21 , 66.45929598808289\n",
      "i, time: 22 , 66.49900078773499\n",
      "i, time: 23 , 66.34701013565063\n",
      "i, time: 24 , 68.07070326805115\n",
      "i, time: 25 , 69.52054476737976\n",
      "i, time: 26 , 67.25542545318604\n",
      "i, time: 27 , 72.92214918136597\n",
      "i, time: 28 , 75.57101225852966\n",
      "i, time: 29 , 68.53298759460449\n",
      "i, time: 30 , 69.07421445846558\n",
      "i, time: 31 , 70.02982258796692\n",
      "i, time: 32 , 66.41798400878906\n",
      "i, time: 33 , 67.37140989303589\n",
      "i, time: 34 , 69.55155086517334\n",
      "i, time: 35 , 69.01163363456726\n",
      "i, time: 36 , 69.90078067779541\n",
      "i, time: 37 , 67.72516989707947\n",
      "i, time: 38 , 70.90140652656555\n",
      "i, time: 39 , 73.11220383644104\n",
      "i, time: 40 , 69.86470651626587\n",
      "i, time: 41 , 69.71679615974426\n",
      "i, time: 42 , 69.90774607658386\n",
      "i, time: 43 , 67.61622476577759\n",
      "i, time: 44 , 68.38560676574707\n",
      "i, time: 45 , 66.92857456207275\n",
      "i, time: 46 , 68.05662512779236\n",
      "i, time: 47 , 69.2255220413208\n",
      "i, time: 48 , 70.13931202888489\n",
      "i, time: 49 , 69.74145555496216\n"
     ]
    }
   ],
   "source": [
    "# set simulation parameters\n",
    "set_sim_parameters()\n",
    "sims = []\n",
    "for i in range(SimParams.M):\n",
    "    # SET THE SEED\n",
    "    ns.set_random_state(42+i)\n",
    "    \n",
    "    SimParams.remaining_T_steps = SimParams.T_steps_sim\n",
    "    k_x = k_y = k_z = SimParams.k_init\n",
    "    start_timestamp = 0\n",
    "    \n",
    "    p_hats = []\n",
    "    \n",
    "    start_time = time.time()\n",
    "    \n",
    "    res = run_estimation_step(k_x, k_y, k_z, start_timestamp)\n",
    "    while res:\n",
    "        p_hats.append(res[0])\n",
    "        res = run_estimation_step(*res[1:])\n",
    "    \n",
    "    stop_time = time.time()\n",
    "    \n",
    "    print('i, time:', i, ',', stop_time - start_time)\n",
    "\n",
    "    sims.append(p_hats)"
   ]
  },
  {
   "cell_type": "markdown",
   "id": "b44ad7d3-41bc-4900-9801-1b1608af50dc",
   "metadata": {},
   "source": [
    "# Intermediate results"
   ]
  },
  {
   "cell_type": "code",
   "execution_count": 14,
   "id": "e2a05f5a-7c8f-4657-a4ae-897df629037c",
   "metadata": {},
   "outputs": [],
   "source": [
    "#np.savez(\"50_runs.npz\", data=sims)\n",
    "sims = np.load(\"50_runs.npz\", allow_pickle=True)[\"data\"]\n",
    "set_sim_parameters()\n",
    "p_i_s = np.zeros((20,))\n",
    "p_x_s = np.zeros((20,))\n",
    "p_y_s = np.zeros((20,))\n",
    "p_z_s = np.zeros((20,))\n",
    "for i in range(50):\n",
    "    for j in range(20):\n",
    "        p_i_s[j] = sims[i][j][0]\n",
    "        p_x_s[j] = sims[i][j][1]\n",
    "        p_y_s[j] = sims[i][j][2]\n",
    "        p_z_s[j] = sims[i][j][3]\n",
    "tss = np.arange(1000, 21000, 1000)"
   ]
  },
  {
   "cell_type": "code",
   "execution_count": null,
   "id": "44b670d2-9f20-45c8-b679-12ba8bee587c",
   "metadata": {},
   "outputs": [],
   "source": []
  },
  {
   "cell_type": "code",
   "execution_count": 17,
   "id": "59ad24d4-5c0c-4b00-851b-14185567a297",
   "metadata": {},
   "outputs": [
    {
     "name": "stdout",
     "output_type": "stream",
     "text": [
      "(20000,)\n",
      "(20000,)\n",
      "(20000, 4)\n"
     ]
    },
    {
     "data": {
      "image/png": "[encoded data removed]",
      "text/plain": [
       "<Figure size 600x400 with 1 Axes>"
      ]
     },
     "metadata": {},
     "output_type": "display_data"
    }
   ],
   "source": [
    "def draw_true_pauli(T=2.0, fS=1e4, a=0.3,b=0.7,f=100.0,phi=np.pi/2):\n",
    "    n_samples = int(T * fS)\n",
    "    t = np.arange(n_samples) / fS\n",
    "    print(t.shape)\n",
    "\n",
    "    gms = gamma_t(t)\n",
    "    print(gms.shape)\n",
    "    \n",
    "    Ps = _pauli_params_from_gamma(gms)\n",
    "    print(Ps.shape)\n",
    "    fig, ax = plt.subplots(figsize=(6,4))\n",
    "    ax.plot(Ps[:,0], color=\"blue\", label=r\"$p_I$\")\n",
    "    ax.plot(Ps[:,1], color=\"red\",  label=r\"$p_X$\")\n",
    "    ax.plot(Ps[:,2], color=\"green\",label=r\"$p_Y$\")\n",
    "    ax.plot(Ps[:,3], color=\"black\",label=r\"$p_Z$\")\n",
    "\n",
    "    ax.plot(tss, p_i_s, \"b--\", label=r\"$\\hat{p}_I$\")\n",
    "    ax.plot(tss, p_x_s, \"r--\", label=r\"$\\hat{p}_X$\")\n",
    "    ax.plot(tss, p_y_s, \"g--\", label=r\"$\\hat{p}_Y$\")\n",
    "    ax.plot(tss, p_z_s, \"k--\", label=r\"$\\hat{p}_Z$\")\n",
    "    \n",
    "    ax.set_xlabel(\"time (s)\")\n",
    "    ax.set_ylabel(\"probability\")\n",
    "    ax.legend(loc=\"center left\", bbox_to_anchor=(1, 0.5))\n",
    "    fig.tight_layout()\n",
    "    plt.show()\n",
    "\n",
    "draw_true_pauli()"
   ]
  },
  {
   "cell_type": "code",
   "execution_count": null,
   "id": "bc83dda4-8cbe-45de-9e2d-fc2432b651ed",
   "metadata": {},
   "outputs": [],
   "source": []
  }
 ],
 "metadata": {
  "kernelspec": {
   "display_name": "Python 3 (ipykernel)",
   "language": "python",
   "name": "python3"
  },
  "language_info": {
   "codemirror_mode": {
    "name": "ipython",
    "version": 3
   },
   "file_extension": ".py",
   "mimetype": "text/x-python",
   "name": "python",
   "nbconvert_exporter": "python",
   "pygments_lexer": "ipython3",
   "version": "3.11.13"
  }
 },
 "nbformat": 4,
 "nbformat_minor": 5
}
