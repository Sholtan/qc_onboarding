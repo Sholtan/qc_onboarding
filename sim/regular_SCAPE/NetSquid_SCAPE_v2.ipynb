{
 "cells": [
  {
   "cell_type": "markdown",
   "id": "0a8799e0-77dd-446d-a141-7f0de9a7193b",
   "metadata": {},
   "source": [
    "Explain what each section does.\n",
    "\n",
    "Reference equations from the paper\n",
    "\n",
    "Add Visualization Section\n",
    "\n",
    "No interpretation or benchmarking of results.\n",
    "Compute and display average + standard deviation.\n",
    "\n",
    "Compare results against a baseline (e.g., EFPE or noisy estimates).\n",
    "\n",
    "Add a markdown cell summarizing conclusions.\n",
    "sweeping over values of k, gamma, or N.\n",
    "\n",
    "Capture simulation parameters and results for reproducibility\n",
    "Store results in a CSV or pickle for future use\n",
    "Plot confidence intervals across M runs\n"
   ]
  },
  {
   "cell_type": "markdown",
   "id": "585004d9-8dda-4bbb-9dae-9d516495fded",
   "metadata": {},
   "source": [
    "# SIMULTANEOUS COMMUNICATION AND PARAMETER ESTIMATION OF PAULI CHANNELS Simulation using NetSquid\n",
    "This notebook simulates the Simultaneous Communication and Parameter Estimation (SCAPE) protocol for Pauli channels using NetSquid. \n",
    "\n",
    "## Introduction\n",
    "**Communicating Parties:**  \n",
    "- Alice: transmitter  \n",
    "- Bob: receiver\n",
    "\n",
    "**Parameters:**  \n",
    "- `k`: repetition factor (≥ 3)  \n",
    "- `N`: total channel uses (divisible by 3k)  \n",
    "- `m`: message of length N/k (split into m_X, m_Y, m_Z) \n",
    "\n",
    "---\n",
    "\n",
    "### Step 1: Transmission and Decoding (for each j ∈ {X, Y, Z})\n",
    "1. Alice picks message `m_j`.  \n",
    "2. Encode with k-repetition: `E_k(m_j)`.  \n",
    "3. Map bits to qubits in basis j:  \n",
    "   - 0 → |0_j⟩  \n",
    "   - 1 → |1_j⟩  \n",
    "   → produces |ψ_j⟩.  \n",
    "4. Send |ψ_j⟩ through Pauli channel.  \n",
    "5. Bob receives state ρ_j = N(|ψ_j⟩⟨ψ_j|).  \n",
    "6. Bob measures in basis j → estimate `Ê_k(m_j)`.  \n",
    "7. Bob decodes by majority vote → `m̂_j`.  \n",
    "\n",
    "### Step 2: Error Estimation (for each j ∈ {X, Y, Z})\n",
    "8. Bob re-encodes: `Ĕ_k(m̂_j)`.  \n",
    "9. Compare `Ê_k(m_j)` and `Ĕ_k(m̂_j)` bitwise to estimate error rate:  \n",
    "$$\n",
    "\\hat{\\epsilon}_j = \\frac{3}{N} \\sum_{\\ell=1}^{N/3} I\\!\\big(\\hat{E}_k(m_j)[\\ell] \\neq \\check{E}_k(m_j)[\\ell]\\big)\n",
    "$$\n",
    "\n",
    "### Step 3: Pauli Parameter Estimation\n",
    "10. Combine error rates \\(\\hat{\\epsilon}_X, \\hat{\\epsilon}_Y, \\hat{\\epsilon}_Z\\).  \n",
    "11. Solve linear system to estimate Pauli parameters:  \n",
    "$$\n",
    "\\hat{p} = A^{-1} \\hat{\\epsilon}\n",
    "$$\n",
    "\n",
    "---\n",
    "\n",
    "**Outputs:**  \n",
    "- Estimated Pauli channel parameters \\((\\hat{p}_I, \\hat{p}_X, \\hat{p}_Y, \\hat{p}_Z)\\).\n",
    "---\n",
    "## Notes\n",
    "\n",
    "### NetSquid basis vectors\n",
    "- `ns.s0` → |0⟩  \n",
    "- `ns.s1` → |1⟩  \n",
    "- `ns.h0` → |+⟩  \n",
    "- `ns.h1` → |−⟩  \n",
    "- `ns.y0` → |+i⟩  \n",
    "- `ns.y1` → |−i⟩"
   ]
  },
  {
   "cell_type": "markdown",
   "id": "d4dbcd75-5800-484c-ba41-4b3e63db0d94",
   "metadata": {},
   "source": [
    "# Imports"
   ]
  },
  {
   "cell_type": "code",
   "execution_count": 1,
   "id": "eafa3000-ac5f-4661-b91e-45e27f1f8592",
   "metadata": {},
   "outputs": [],
   "source": [
    "import netsquid as ns\n",
    "import numpy as np\n",
    "from enum import Enum, auto\n",
    "import time\n",
    "from functools import reduce\n",
    "import os\n",
    "from multiprocessing import get_context\n",
    "from tqdm import tqdm\n",
    "\n",
    "from scape_tools import (\n",
    "    Basis,\n",
    "    operators,\n",
    "    kets,\n",
    "    get_pauli_parameters,\n",
    "    pauli_to_bsc_error_rates,\n",
    "    bsc_error_rates_to_pauli,\n",
    "    diamond_norm_distance,\n",
    "    simulate_chunk,\n",
    ")"
   ]
  },
  {
   "cell_type": "markdown",
   "id": "56228650-493c-4ba8-9602-e6505087f246",
   "metadata": {},
   "source": [
    "# Configuration of the parameters"
   ]
  },
  {
   "cell_type": "code",
   "execution_count": 2,
   "id": "5a0a2173-fcd0-47b5-909b-2abbadf298b4",
   "metadata": {},
   "outputs": [
    {
     "name": "stdout",
     "output_type": "stream",
     "text": [
      "message_length 769\n"
     ]
    }
   ],
   "source": [
    "np.random.seed(41)\n",
    "\n",
    "M = 25 # number of simulations\n",
    "\n",
    "# SCAPE parametres:\n",
    "k = 13   # number of symbol repetitions\n",
    "N = 10000 # channel uses\n",
    "gamma = 0.1 # corr matrix parameter\n",
    "\n",
    "message_length = N // k\n",
    "print('message_length', message_length)"
   ]
  },
  {
   "cell_type": "markdown",
   "id": "0a6d9dc8-08be-495c-a9df-e137e33bbb2c",
   "metadata": {},
   "source": [
    "# Tools"
   ]
  },
  {
   "cell_type": "markdown",
   "id": "2ebf993f-dd66-4596-83c8-13ec3646a9e4",
   "metadata": {
    "jp-MarkdownHeadingCollapsed": true
   },
   "source": [
    "## Message Transfer\n",
    "Simulate noisy transmission of messages through a Pauli channel."
   ]
  },
  {
   "cell_type": "code",
   "execution_count": 3,
   "id": "717243a9-c5b4-408a-9194-a5c184fa325e",
   "metadata": {},
   "outputs": [],
   "source": [
    "def transfer_message(message, pauli_parameters, basis, nproc=None):\n",
    "    msg = np.asarray(message, dtype=np.int8)\n",
    "    nproc = nproc or os.cpu_count()\n",
    "    chunks = [c.tolist() for c in np.array_split(msg, nproc) if c.size]\n",
    "    with get_context(\"spawn\").Pool(processes=nproc) as pool:\n",
    "        parts = pool.starmap(simulate_chunk, [(c, pauli_parameters, basis) for c in chunks])\n",
    "    return [b for part in parts for b in part]"
   ]
  },
  {
   "cell_type": "markdown",
   "id": "b4ba43d3-d30c-415f-8e9d-9dc7c6e6a731",
   "metadata": {
    "jp-MarkdownHeadingCollapsed": true
   },
   "source": [
    "## Error Estimation\n",
    "Estimate the effective error rate in each Pauli basis (X, Y, Z)."
   ]
  },
  {
   "cell_type": "code",
   "execution_count": 4,
   "id": "d917805c-f6aa-46ba-9419-1691819c1f8c",
   "metadata": {},
   "outputs": [],
   "source": [
    "def estimate_bsc_error(message, pauli_parameters, basis):\n",
    "    assert basis in Basis\n",
    "    assert len(message)%k==0   # message has to be k-repetition encoded\n",
    "    assert abs(sum(pauli_parameters) - 1) < 1e-12\n",
    "    \n",
    "    transfer_start = time.time()\n",
    "    received_message = transfer_message(message, pauli_parameters, basis=basis)\n",
    "    transfer_end = time.time()\n",
    "    #print(\"transfer time:\", transfer_end - transfer_start)\n",
    "    \n",
    "    corrected_received_message = received_message.copy()\n",
    "    for i in range(len(received_message)//k):\n",
    "        count_ones = 0\n",
    "        for j in range(k):\n",
    "            count_ones += received_message[k*i+j]\n",
    "        count_zeros = k - count_ones\n",
    "        if count_ones > count_zeros:\n",
    "            for j in range(k):\n",
    "                corrected_received_message[k*i+j] = 1\n",
    "        else:\n",
    "            for j in range(k):\n",
    "                corrected_received_message[k*i+j] = 0\n",
    "    assert len(received_message) == len(corrected_received_message)\n",
    "\n",
    "    flip_counter = 0\n",
    "    for i in range(len(received_message)):\n",
    "        if received_message[i] != corrected_received_message[i]:\n",
    "            flip_counter += 1\n",
    "    epsilon = flip_counter / len(received_message)\n",
    "    return epsilon"
   ]
  },
  {
   "cell_type": "markdown",
   "id": "d8f03e79-daed-41ca-9ddc-45b0c5b9705b",
   "metadata": {
    "jp-MarkdownHeadingCollapsed": true
   },
   "source": [
    "# SCAPE Simulation\n",
    "Simulate the full SCAPE protocol using repetition codes and estimate the diamond norm distance."
   ]
  },
  {
   "cell_type": "code",
   "execution_count": 5,
   "id": "4dc2aa4e-6328-4608-a931-998cbf5b9278",
   "metadata": {},
   "outputs": [],
   "source": [
    "def scape_simulation(k, message_length, gamma):\n",
    "    m_per_basis_length  = int(np.ceil(message_length/3))\n",
    "\n",
    "    # Generate Pauli noise parameters\n",
    "    pauli_parameters = get_pauli_parameters(gamma)[::-1]\n",
    "    bsc_error_rates = pauli_to_bsc_error_rates(pauli_parameters)\n",
    "\n",
    "    \n",
    "    # Generate random message\n",
    "    message = np.random.randint(0, 2, size=message_length, dtype=bool)\n",
    "    \n",
    "    message_X = message[0:m_per_basis_length]\n",
    "    message_Y = message[m_per_basis_length:2*m_per_basis_length]\n",
    "    message_Z = message[2*m_per_basis_length:]\n",
    "    \n",
    "    k_encoded_message_X = np.repeat(message_X, k)\n",
    "    k_encoded_message_Y = np.repeat(message_Y, k)\n",
    "    k_encoded_message_Z = np.repeat(message_Z, k)\n",
    "\n",
    "    \n",
    "    # Estimate the error rate in each basis\n",
    "    estimated_epsilonX = estimate_bsc_error(k_encoded_message_X, pauli_parameters, basis=Basis.X)\n",
    "    estimated_epsilonY = estimate_bsc_error(k_encoded_message_Y, pauli_parameters, basis=Basis.Y)\n",
    "    estimated_epsilonZ = estimate_bsc_error(k_encoded_message_Z, pauli_parameters, basis=Basis.Z)\n",
    "    \n",
    "    estimated_error_rates = (estimated_epsilonX, estimated_epsilonY, estimated_epsilonZ, 1)\n",
    "\n",
    "\n",
    "    # Convert to Pauli parameters\n",
    "    estimated_pauli_parameters = bsc_error_rates_to_pauli(estimated_error_rates)\n",
    "\n",
    "    # Calculate diamond norm distance\n",
    "    distance = diamond_norm_distance(pauli_parameters, estimated_pauli_parameters)\n",
    "    return distance"
   ]
  },
  {
   "cell_type": "markdown",
   "id": "a29b9255-73ea-4cea-ad70-758fb465ad98",
   "metadata": {},
   "source": [
    "# Run Simulations"
   ]
  },
  {
   "cell_type": "code",
   "execution_count": 6,
   "id": "2bb3c6ad-8956-4ff4-98ca-382d9bbf8e72",
   "metadata": {},
   "outputs": [
    {
     "name": "stderr",
     "output_type": "stream",
     "text": [
      "simulations: 100%|██████████████████████████████| 25/25 [01:27<00:00,  3.52s/it]\n"
     ]
    }
   ],
   "source": [
    "distances = []\n",
    "\n",
    "for _ in tqdm(range(M), desc=\"simulations\"):\n",
    "    distances.append(scape_simulation(k, message_length, gamma))\n",
    "\n",
    "mean_distance = np.mean(np.array(distances))"
   ]
  },
  {
   "cell_type": "markdown",
   "id": "6b92c706-ec45-430e-8e9b-c6e213805ab1",
   "metadata": {},
   "source": [
    "## 📊 Results Summary\n",
    "Compute and display average diamond norm distance across simulations."
   ]
  },
  {
   "cell_type": "code",
   "execution_count": 11,
   "id": "d2e8578b-b159-4df8-9ab4-1ed1fdd04826",
   "metadata": {},
   "outputs": [
    {
     "name": "stdout",
     "output_type": "stream",
     "text": [
      "Mean diamond norm distance: 0.2588 ± 0.0085\n"
     ]
    },
    {
     "data": {
      "image/png": "[encoded data removed]",
      "text/plain": [
       "<Figure size 640x480 with 1 Axes>"
      ]
     },
     "metadata": {},
     "output_type": "display_data"
    }
   ],
   "source": [
    "import matplotlib.pyplot as plt\n",
    "import seaborn as sns\n",
    "\n",
    "mean_distance = np.mean(distances)\n",
    "std_distance = np.std(distances)\n",
    "\n",
    "print(f\"Mean diamond norm distance: {mean_distance:.4f} ± {std_distance:.4f}\")\n",
    "\n",
    "# Optional: histogram of distances\n",
    "sns.histplot(distances, kde=True)\n",
    "plt.title(\"Distribution of Diamond Norm Distances\")\n",
    "plt.xlabel(\"Diamond Norm Distance\")\n",
    "plt.ylabel(\"Frequency\")\n",
    "plt.grid(True)\n",
    "plt.show()"
   ]
  },
  {
   "cell_type": "code",
   "execution_count": null,
   "id": "c7f2f99b-57b6-41a4-ade8-302335a5639d",
   "metadata": {},
   "outputs": [],
   "source": []
  },
  {
   "cell_type": "code",
   "execution_count": null,
   "id": "ae23d9a1-dc6a-4c29-abda-9ef74c7f37d0",
   "metadata": {},
   "outputs": [],
   "source": []
  },
  {
   "cell_type": "code",
   "execution_count": null,
   "id": "7f5a2241-82d0-43bf-b118-27f76daf8126",
   "metadata": {},
   "outputs": [],
   "source": []
  },
  {
   "cell_type": "code",
   "execution_count": null,
   "id": "d2403aa2-2b93-429d-bea8-c9b3154bf358",
   "metadata": {},
   "outputs": [],
   "source": []
  }
 ],
 "metadata": {
  "kernelspec": {
   "display_name": "Python 3 (ipykernel)",
   "language": "python",
   "name": "python3"
  },
  "language_info": {
   "codemirror_mode": {
    "name": "ipython",
    "version": 3
   },
   "file_extension": ".py",
   "mimetype": "text/x-python",
   "name": "python",
   "nbconvert_exporter": "python",
   "pygments_lexer": "ipython3",
   "version": "3.11.13"
  }
 },
 "nbformat": 4,
 "nbformat_minor": 5
}
